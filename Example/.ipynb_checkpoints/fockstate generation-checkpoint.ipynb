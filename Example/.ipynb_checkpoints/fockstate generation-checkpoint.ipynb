{
 "cells": [
  {
   "cell_type": "code",
   "execution_count": 313,
   "id": "056ef0a8",
   "metadata": {},
   "outputs": [],
   "source": [
    "import numpy as np\n",
    "from qocag.models.close_system.optimization import grape_schroedinger_discrete\n",
    "from qocag.costs.targetstateinfidelity import TargetStateInfidelity\n",
    "from qocag import ControlVariation,generate_save_file_path,ControlBandwidthMax\n",
    "from qocag import LBFGSB,Adam\n",
    "import matplotlib.pyplot as plt\n",
    "def get_creation_operator(size):\n",
    "    return np.diag(np.sqrt(np.arange(1, size)), k=-1)\n",
    "def get_annihilation_operator(size):\n",
    "    return np.diag(np.sqrt(np.arange(1, size)), k=1)\n",
    "def get_H(dim_c,dim_t,chi):\n",
    "    a_dag=get_creation_operator(dim_c)\n",
    "    a=get_annihilation_operator(dim_c)\n",
    "    CX=np.kron(a+a_dag,np.identity(dim_t))\n",
    "    sigmam=get_annihilation_operator(dim_t)\n",
    "    sigmap=get_creation_operator(dim_t)\n",
    "    sigmax=sigmam+sigmap\n",
    "    sigmay=-1j*sigmap+1j*sigmam\n",
    "    H=chi*np.kron(a_dag.dot(a),sigmap.dot(sigmam))\n",
    "    SX=np.kron(np.identity(dim_c),sigmax)\n",
    "    SY=np.kron(np.identity(dim_c),sigmay)\n",
    "    return H,[SX,SY,CX]"
   ]
  },
  {
   "cell_type": "code",
   "execution_count": 135,
   "id": "b9d6b05e",
   "metadata": {},
   "outputs": [
    {
     "data": {
      "text/plain": [
       "0.04188790204786392"
      ]
     },
     "execution_count": 135,
     "metadata": {},
     "output_type": "execute_result"
    }
   ],
   "source": [
    "2*0.1**2/3*2*np.pi"
   ]
  },
  {
   "cell_type": "code",
   "execution_count": 136,
   "id": "7b956e40",
   "metadata": {},
   "outputs": [
    {
     "data": {
      "text/plain": [
       "149.99999999999997"
      ]
     },
     "execution_count": 136,
     "metadata": {},
     "output_type": "execute_result"
    }
   ],
   "source": [
    "1/0.006666666666666668"
   ]
  },
  {
   "cell_type": "code",
   "execution_count": 139,
   "id": "805b1bad",
   "metadata": {},
   "outputs": [],
   "source": [
    "dim_c=5\n",
    "dim_t=2\n",
    "chi=0.1**2/3*2*np.pi\n",
    "initial_state_c=np.zeros(dim_c)\n",
    "initial_state_c[0]=1\n",
    "target_state_c=np.zeros(dim_c)\n",
    "target_state_c[1]=1\n",
    "state_t=np.zeros(dim_t)\n",
    "state_t[0]=1\n",
    "initial_states=np.kron(initial_state_c,state_t)\n",
    "target_states=np.kron(target_state_c,state_t)\n",
    "cost1=TargetStateInfidelity(target_states=target_states)\n",
    "costs=[cost1]\n",
    "\n",
    "total_time=3000\n",
    "total_time_steps=200"
   ]
  },
  {
   "cell_type": "code",
   "execution_count": 168,
   "id": "2f2780ed",
   "metadata": {},
   "outputs": [
    {
     "data": {
      "text/plain": [
       "array([0., 0., 1., 0., 0., 0., 0., 0., 0., 0.])"
      ]
     },
     "execution_count": 168,
     "metadata": {},
     "output_type": "execute_result"
    }
   ],
   "source": [
    "target_states"
   ]
  },
  {
   "cell_type": "code",
   "execution_count": 140,
   "id": "a7610235",
   "metadata": {},
   "outputs": [],
   "source": [
    "H0,H_controls=get_H(dim_c,dim_t,chi)"
   ]
  },
  {
   "cell_type": "code",
   "execution_count": 141,
   "id": "b0d19dcd",
   "metadata": {},
   "outputs": [],
   "source": [
    "def impose_bc(controls):\n",
    "    max_control=[0.009,0.009,0.0005]\n",
    "    for i in range(len(controls)):\n",
    "        controls[i][0]=0\n",
    "        controls[i][-1]=0\n",
    "        for j in range(len(controls[0])-1):\n",
    "            if controls[i][j+1]>max_control[i]:\n",
    "                controls[i][j+1]=max_control[i]\n",
    "            if controls[i][j+1]<-max_control[i]:\n",
    "                controls[i][j+1]=-max_control[i]\n",
    "    return controls"
   ]
  },
  {
   "cell_type": "code",
   "execution_count": 142,
   "id": "e9c9e0f9",
   "metadata": {
    "scrolled": true
   },
   "outputs": [
    {
     "name": "stdout",
     "output_type": "stream",
     "text": [
      "iter   |   total error  |       cost0      |   grads_l2  \n",
      "=================================================================\n",
      "  1    | 9.24013498e-01 |  9.24013498e-01  |  9.89583992e+01  \n",
      "  2    | 7.86327211e-01 |  7.86327211e-01  |  8.64650580e+01  \n",
      "  3    | 9.48345941e-01 |  9.48345941e-01  |  4.64304964e+01  \n",
      "  4    | 6.40160227e-01 |  6.40160227e-01  |  3.60334562e+01  \n",
      "  5    | 7.35177746e-01 |  7.35177746e-01  |  5.83475313e+01  \n",
      "  6    | 7.11210987e-01 |  7.11210987e-01  |  4.97047400e+01  \n",
      "  7    | 6.84372252e-01 |  6.84372252e-01  |  4.13637628e+01  \n",
      "  8    | 6.86352015e-01 |  6.86352015e-01  |  4.23720763e+01  \n",
      "  9    | 6.56716796e-01 |  6.56716796e-01  |  3.65068137e+01  \n",
      "  10   | 6.51605867e-01 |  6.51605867e-01  |  4.29368209e+01  \n",
      "  11   | 6.28807231e-01 |  6.28807231e-01  |  2.98813849e+01  \n",
      "  12   | 6.26463159e-01 |  6.26463159e-01  |  3.83820406e+01  \n",
      "  13   | 6.07440921e-01 |  6.07440921e-01  |  3.67352587e+01  \n",
      "  14   | 5.97332389e-01 |  5.97332389e-01  |  4.17558255e+01  \n",
      "  15   | 5.74214295e-01 |  5.74214295e-01  |  4.96507420e+01  \n",
      "  16   | 5.42896780e-01 |  5.42896780e-01  |  6.09586390e+01  \n",
      "  17   | 4.99885533e-01 |  4.99885533e-01  |  7.48568739e+01  \n",
      "  18   | 4.28767712e-01 |  4.28767712e-01  |  8.41122951e+01  \n",
      "  19   | 3.52525293e-01 |  3.52525293e-01  |  9.82716036e+01  \n",
      "  20   | 2.80265102e-01 |  2.80265102e-01  |  1.12147927e+02  \n",
      "  21   | 2.29273523e-01 |  2.29273523e-01  |  1.12467007e+02  \n",
      "  22   | 2.15688240e-01 |  2.15688240e-01  |  1.08568824e+02  \n",
      "  23   | 1.82927790e-01 |  1.82927790e-01  |  1.03713811e+02  \n",
      "  24   | 1.73452669e-01 |  1.73452669e-01  |  1.04674367e+02  \n",
      "  25   | 1.50275758e-01 |  1.50275758e-01  |  1.06107534e+02  \n",
      "  26   | 1.60044084e-01 |  1.60044084e-01  |  1.10030224e+02  \n",
      "  27   | 1.48040996e-01 |  1.48040996e-01  |  1.08059042e+02  \n",
      "  28   | 1.62154060e-01 |  1.62154060e-01  |  1.07648541e+02  \n",
      "  29   | 1.53022795e-01 |  1.53022795e-01  |  1.05021731e+02  \n",
      "  30   | 1.58611422e-01 |  1.58611422e-01  |  1.05509659e+02  \n",
      "  31   | 1.47119185e-01 |  1.47119185e-01  |  1.02978655e+02  \n",
      "  32   | 1.48364329e-01 |  1.48364329e-01  |  1.03543024e+02  \n",
      "  33   | 1.33669246e-01 |  1.33669246e-01  |  1.03685025e+02  \n",
      "  34   | 1.31841888e-01 |  1.31841888e-01  |  1.06232894e+02  \n",
      "  35   | 1.17163961e-01 |  1.17163961e-01  |  1.06407509e+02  \n",
      "  36   | 1.16978333e-01 |  1.16978333e-01  |  1.08824965e+02  \n",
      "  37   | 1.07744065e-01 |  1.07744065e-01  |  1.08137305e+02  \n",
      "  38   | 1.07278666e-01 |  1.07278666e-01  |  1.07137777e+02  \n",
      "  39   | 1.02426509e-01 |  1.02426509e-01  |  1.05426175e+02  \n",
      "  40   | 1.00756012e-01 |  1.00756012e-01  |  1.03765077e+02  \n",
      "  41   | 9.68173458e-02 |  9.68173458e-02  |  1.01062582e+02  \n",
      "  42   | 9.69794767e-02 |  9.69794767e-02  |  9.96552186e+01  \n",
      "  43   | 9.64232374e-02 |  9.64232374e-02  |  9.93340790e+01  \n",
      "  44   | 9.45295279e-02 |  9.45295279e-02  |  9.89865102e+01  \n",
      "  45   | 9.49788451e-02 |  9.49788451e-02  |  9.92390800e+01  \n",
      "  46   | 9.17063913e-02 |  9.17063913e-02  |  9.89343729e+01  \n",
      "  47   | 9.25774891e-02 |  9.25774891e-02  |  9.93145913e+01  \n",
      "  48   | 8.90010372e-02 |  8.90010372e-02  |  9.87293129e+01  \n",
      "  49   | 8.77716431e-02 |  8.77716431e-02  |  9.87164713e+01  \n",
      "  50   | 8.53935730e-02 |  8.53935730e-02  |  9.85192527e+01  \n",
      "  51   | 8.27295961e-02 |  8.27295961e-02  |  9.79402679e+01  \n",
      "  52   | 8.27800442e-02 |  8.27800442e-02  |  9.78570729e+01  \n",
      "  53   | 8.11261375e-02 |  8.11261375e-02  |  9.77133368e+01  \n",
      "  54   | 8.09221280e-02 |  8.09221280e-02  |  9.76198678e+01  \n",
      "  55   | 8.01895336e-02 |  8.01895336e-02  |  9.72622662e+01  \n",
      "  56   | 7.97736698e-02 |  7.97736698e-02  |  9.71939500e+01  \n",
      "  57   | 7.97221566e-02 |  7.97221566e-02  |  9.70364033e+01  \n",
      "  58   | 7.84414277e-02 |  7.84414277e-02  |  9.65848810e+01  \n",
      "  59   | 7.83301053e-02 |  7.83301053e-02  |  9.63937545e+01  \n",
      "  60   | 7.76792795e-02 |  7.76792795e-02  |  9.60777061e+01  \n",
      "  61   | 7.66261161e-02 |  7.66261161e-02  |  9.57800084e+01  \n",
      "  62   | 7.67047170e-02 |  7.67047170e-02  |  9.56637447e+01  \n",
      "  63   | 7.62277228e-02 |  7.62277228e-02  |  9.54140695e+01  \n",
      "  64   | 7.55401024e-02 |  7.55401024e-02  |  9.52524043e+01  \n",
      "  65   | 7.52668424e-02 |  7.52668424e-02  |  9.51235053e+01  \n",
      "  66   | 7.46446828e-02 |  7.46446828e-02  |  9.48769692e+01  \n",
      "  67   | 7.42823869e-02 |  7.42823869e-02  |  9.48093551e+01  \n",
      "  68   | 7.41883553e-02 |  7.41883553e-02  |  9.47293832e+01  \n",
      "  69   | 7.36203394e-02 |  7.36203394e-02  |  9.45750505e+01  \n",
      "  70   | 7.31697854e-02 |  7.31697854e-02  |  9.44415773e+01  \n",
      "  71   | 7.30919149e-02 |  7.30919149e-02  |  9.43730264e+01  \n",
      "  72   | 7.27715030e-02 |  7.27715030e-02  |  9.42363692e+01  \n",
      "  73   | 7.23212647e-02 |  7.23212647e-02  |  9.40051015e+01  \n",
      "  74   | 7.20159833e-02 |  7.20159833e-02  |  9.38672229e+01  \n",
      "  75   | 7.16698256e-02 |  7.16698256e-02  |  9.35940655e+01  \n",
      "  76   | 7.14360359e-02 |  7.14360359e-02  |  9.34937170e+01  \n",
      "  77   | 7.14962964e-02 |  7.14962964e-02  |  9.34009349e+01  \n",
      "  78   | 7.19941061e-02 |  7.19941061e-02  |  9.34590967e+01  \n",
      "  79   | 7.31341625e-02 |  7.31341625e-02  |  9.36818060e+01  \n",
      "  80   | 7.58016160e-02 |  7.58016160e-02  |  9.44702734e+01  \n",
      "  81   | 8.14206046e-02 |  8.14206046e-02  |  9.58032131e+01  \n",
      "  82   | 8.99142179e-02 |  8.99142179e-02  |  9.82743094e+01  \n",
      "  83   | 9.57596096e-02 |  9.57596096e-02  |  9.94107326e+01  \n",
      "  84   | 9.02276197e-02 |  9.02276197e-02  |  9.82006888e+01  \n",
      "  85   | 7.75878285e-02 |  7.75878285e-02  |  9.44052664e+01  \n",
      "  86   | 7.18343217e-02 |  7.18343217e-02  |  9.27710804e+01  \n",
      "  87   | 7.53946979e-02 |  7.53946979e-02  |  9.38047439e+01  \n",
      "  88   | 7.87061102e-02 |  7.87061102e-02  |  9.46792215e+01  \n",
      "  89   | 7.56652127e-02 |  7.56652127e-02  |  9.38982053e+01  \n",
      "  90   | 7.21615020e-02 |  7.21615020e-02  |  9.28108468e+01  \n",
      "  91   | 7.30599504e-02 |  7.30599504e-02  |  9.29023247e+01  \n",
      "  92   | 7.37609606e-02 |  7.37609606e-02  |  9.32335013e+01  \n",
      "  93   | 7.10333490e-02 |  7.10333490e-02  |  9.24454734e+01  \n",
      "  94   | 6.93862289e-02 |  6.93862289e-02  |  9.18487076e+01  \n",
      "  95   | 7.12543185e-02 |  7.12543185e-02  |  9.25662647e+01  \n",
      "  96   | 7.21512432e-02 |  7.21512432e-02  |  9.25115160e+01  \n",
      "  97   | 6.93379434e-02 |  6.93379434e-02  |  9.19704274e+01  \n",
      "  98   | 6.70621252e-02 |  6.70621252e-02  |  9.12635618e+01  \n",
      "  99   | 6.86951358e-02 |  6.86951358e-02  |  9.15242697e+01  \n",
      " 100   | 7.09880844e-02 |  7.09880844e-02  |  9.24522036e+01  \n",
      " 101   | 6.99062031e-02 |  6.99062031e-02  |  9.17995410e+01  \n",
      " 102   | 6.71223726e-02 |  6.71223726e-02  |  9.12456068e+01  \n",
      " 103   | 6.64953552e-02 |  6.64953552e-02  |  9.09954850e+01  \n",
      " 104   | 6.79580672e-02 |  6.79580672e-02  |  9.12804524e+01  \n",
      " 105   | 6.86772245e-02 |  6.86772245e-02  |  9.16555195e+01  \n",
      " 106   | 6.77253398e-02 |  6.77253398e-02  |  9.11805703e+01  \n",
      " 107   | 6.67157235e-02 |  6.67157235e-02  |  9.10149503e+01  \n",
      " 108   | 6.66894007e-02 |  6.66894007e-02  |  9.10119704e+01  \n",
      " 109   | 6.68846264e-02 |  6.68846264e-02  |  9.09932494e+01  \n",
      " 110   | 6.65184363e-02 |  6.65184363e-02  |  9.09865331e+01  \n",
      " 111   | 6.60060854e-02 |  6.60060854e-02  |  9.07264735e+01  \n",
      " 112   | 6.60899834e-02 |  6.60899834e-02  |  9.07866571e+01  \n",
      " 113   | 6.66032063e-02 |  6.66032063e-02  |  9.09179768e+01  \n",
      " 114   | 6.68142766e-02 |  6.68142766e-02  |  9.09042221e+01  \n",
      " 115   | 6.64731205e-02 |  6.64731205e-02  |  9.08207609e+01  \n",
      " 116   | 6.63382045e-02 |  6.63382045e-02  |  9.06622592e+01  \n",
      " 117   | 6.75615422e-02 |  6.75615422e-02  |  9.10230332e+01  \n",
      " 118   | 7.13833251e-02 |  7.13833251e-02  |  9.20359655e+01  \n",
      " 119   | 7.87514825e-02 |  7.87514825e-02  |  9.39847604e+01  \n",
      " 120   | 8.87624809e-02 |  8.87624809e-02  |  9.66572676e+01  \n",
      " 121   | 9.38294069e-02 |  9.38294069e-02  |  9.76827325e+01  \n",
      " 122   | 8.28562911e-02 |  8.28562911e-02  |  9.49964492e+01  \n",
      " 123   | 6.68612604e-02 |  6.68612604e-02  |  9.04693903e+01  \n",
      " 124   | 6.51309520e-02 |  6.51309520e-02  |  8.99492902e+01  \n",
      " 125   | 7.53704437e-02 |  7.53704437e-02  |  9.27543376e+01  \n",
      " 126   | 7.90033295e-02 |  7.90033295e-02  |  9.37349732e+01  \n",
      " 127   | 6.97344586e-02 |  6.97344586e-02  |  9.12884963e+01  \n",
      " 128   | 6.36585849e-02 |  6.36585849e-02  |  8.93966393e+01  \n",
      " 129   | 6.84696131e-02 |  6.84696131e-02  |  9.08153501e+01  \n"
     ]
    },
    {
     "name": "stdout",
     "output_type": "stream",
     "text": [
      " 130   | 7.25435456e-02 |  7.25435456e-02  |  9.18842239e+01  \n",
      " 131   | 6.81399845e-02 |  6.81399845e-02  |  9.07407878e+01  \n",
      " 132   | 6.40330138e-02 |  6.40330138e-02  |  8.96547005e+01  \n",
      " 133   | 6.63069974e-02 |  6.63069974e-02  |  9.00205117e+01  \n",
      " 134   | 6.83459648e-02 |  6.83459648e-02  |  9.07693670e+01  \n",
      " 135   | 6.56999783e-02 |  6.56999783e-02  |  9.00134953e+01  \n",
      " 136   | 6.37760636e-02 |  6.37760636e-02  |  8.93852995e+01  \n",
      " 137   | 6.55339217e-02 |  6.55339217e-02  |  9.00120716e+01  \n",
      " 138   | 6.63392068e-02 |  6.63392068e-02  |  8.99684426e+01  \n",
      " 139   | 6.40699022e-02 |  6.40699022e-02  |  8.95159950e+01  \n",
      " 140   | 6.28229804e-02 |  6.28229804e-02  |  8.91835407e+01  \n",
      " 141   | 6.44560582e-02 |  6.44560582e-02  |  8.94203807e+01  \n",
      " 142   | 6.53235823e-02 |  6.53235823e-02  |  8.98998953e+01  \n",
      " 143   | 6.35779854e-02 |  6.35779854e-02  |  8.91964461e+01  \n",
      " 144   | 6.22214396e-02 |  6.22214396e-02  |  8.89147851e+01  \n",
      " 145   | 6.31779574e-02 |  6.31779574e-02  |  8.92424632e+01  \n",
      " 146   | 6.42991075e-02 |  6.42991075e-02  |  8.93403394e+01  \n",
      " 147   | 6.35659936e-02 |  6.35659936e-02  |  8.93662695e+01  \n",
      " 148   | 6.23291743e-02 |  6.23291743e-02  |  8.88658844e+01  \n",
      " 149   | 6.24427092e-02 |  6.24427092e-02  |  8.89399254e+01  \n",
      " 150   | 6.32449264e-02 |  6.32449264e-02  |  8.92062526e+01  \n",
      " 151   | 6.31786640e-02 |  6.31786640e-02  |  8.90721005e+01  \n",
      " 152   | 6.24004567e-02 |  6.24004567e-02  |  8.89583734e+01  \n",
      " 153   | 6.21443225e-02 |  6.21443225e-02  |  8.88385781e+01  \n",
      " 154   | 6.26181279e-02 |  6.26181279e-02  |  8.89243983e+01  \n",
      " 155   | 6.29122004e-02 |  6.29122004e-02  |  8.90756263e+01  \n",
      " 156   | 6.25611305e-02 |  6.25611305e-02  |  8.88773210e+01  \n",
      " 157   | 6.21334477e-02 |  6.21334477e-02  |  8.88359657e+01  \n",
      " 158   | 6.22473320e-02 |  6.22473320e-02  |  8.88297531e+01  \n",
      " 159   | 6.27592569e-02 |  6.27592569e-02  |  8.89791318e+01  \n",
      " 160   | 6.31973135e-02 |  6.31973135e-02  |  8.90863863e+01  \n",
      " 161   | 6.35939532e-02 |  6.35939532e-02  |  8.92552475e+01  \n",
      " 162   | 6.46278234e-02 |  6.46278234e-02  |  8.94082303e+01  \n",
      " 163   | 6.71457199e-02 |  6.71457199e-02  |  9.03507650e+01  \n",
      " 164   | 7.17597931e-02 |  7.17597931e-02  |  9.12806704e+01  \n",
      " 165   | 7.87901689e-02 |  7.87901689e-02  |  9.36140018e+01  \n",
      " 166   | 8.64943901e-02 |  8.64943901e-02  |  9.51939006e+01  \n",
      " 167   | 9.00353025e-02 |  9.00353025e-02  |  9.65999596e+01  \n",
      " 168   | 8.43341640e-02 |  8.43341640e-02  |  9.48455128e+01  \n",
      " 169   | 7.27279599e-02 |  7.27279599e-02  |  9.18900261e+01  \n",
      " 170   | 6.50170548e-02 |  6.50170548e-02  |  8.96882667e+01  \n",
      " 171   | 6.51761442e-02 |  6.51761442e-02  |  8.94953401e+01  \n",
      " 172   | 6.95667753e-02 |  6.95667753e-02  |  9.10184213e+01  \n",
      " 173   | 7.19018105e-02 |  7.19018105e-02  |  9.14548539e+01  \n",
      " 174   | 6.98370834e-02 |  6.98370834e-02  |  9.10900521e+01  \n",
      " 175   | 6.67616578e-02 |  6.67616578e-02  |  9.01631273e+01  \n",
      " 176   | 6.55016212e-02 |  6.55016212e-02  |  8.97079096e+01  \n",
      " 177   | 6.55860085e-02 |  6.55860085e-02  |  8.98215685e+01  \n",
      " 178   | 6.53405076e-02 |  6.53405076e-02  |  8.95822688e+01  \n",
      " 179   | 6.44368671e-02 |  6.44368671e-02  |  8.94939674e+01  \n",
      " 180   | 6.41721532e-02 |  6.41721532e-02  |  8.93636304e+01  \n"
     ]
    },
    {
     "ename": "KeyboardInterrupt",
     "evalue": "",
     "output_type": "error",
     "traceback": [
      "\u001b[0;31m---------------------------------------------------------------------------\u001b[0m",
      "\u001b[0;31mKeyboardInterrupt\u001b[0m                         Traceback (most recent call last)",
      "\u001b[0;32m<ipython-input-142-bc5230e627e4>\u001b[0m in \u001b[0;36m<module>\u001b[0;34m\u001b[0m\n\u001b[1;32m      5\u001b[0m                                 \u001b[0minitial_states\u001b[0m\u001b[0;34m,\u001b[0m\u001b[0mmax_iteration_num\u001b[0m\u001b[0;34m=\u001b[0m\u001b[0;36m1000\u001b[0m\u001b[0;34m,\u001b[0m\u001b[0;34m\u001b[0m\u001b[0;34m\u001b[0m\u001b[0m\n\u001b[1;32m      6\u001b[0m                                 \u001b[0moptimizer\u001b[0m\u001b[0;34m=\u001b[0m\u001b[0mAdam\u001b[0m\u001b[0;34m(\u001b[0m\u001b[0;34m)\u001b[0m\u001b[0;34m,\u001b[0m \u001b[0mmode\u001b[0m\u001b[0;34m=\u001b[0m\u001b[0;34m'AD'\u001b[0m\u001b[0;34m,\u001b[0m \u001b[0mtol\u001b[0m\u001b[0;34m=\u001b[0m\u001b[0;36m1e-15\u001b[0m\u001b[0;34m,\u001b[0m\u001b[0minitial_controls\u001b[0m\u001b[0;34m=\u001b[0m\u001b[0minitial_control\u001b[0m\u001b[0;34m,\u001b[0m\u001b[0msave_file_path\u001b[0m\u001b[0;34m=\u001b[0m\u001b[0msave_file_path\u001b[0m\u001b[0;34m,\u001b[0m\u001b[0;34m\u001b[0m\u001b[0;34m\u001b[0m\u001b[0m\n\u001b[0;32m----> 7\u001b[0;31m                                    impose_control_conditions=impose_bc)\n\u001b[0m",
      "\u001b[0;32m~/PycharmProjects/qocag/qocag/models/close_system/optimization.py\u001b[0m in \u001b[0;36mgrape_schroedinger_discrete\u001b[0;34m(total_time_steps, costs, total_time, H0, H_controls, initial_states, impose_control_conditions, initial_controls, max_iteration_num, log_iteration_step, max_control_norms, min_error, optimizer, save_intermediate_states, save_file_path, save_iteration_step, mode, tol)\u001b[0m\n\u001b[1;32m    163\u001b[0m     \u001b[0mprint_heading\u001b[0m\u001b[0;34m(\u001b[0m\u001b[0mresult\u001b[0m\u001b[0;34m.\u001b[0m\u001b[0mcosts_len\u001b[0m\u001b[0;34m)\u001b[0m\u001b[0;34m\u001b[0m\u001b[0;34m\u001b[0m\u001b[0m\n\u001b[1;32m    164\u001b[0m     sys_para.optimizer.run(cost_only, sys_para.max_iteration_num, initial_controls,\n\u001b[0;32m--> 165\u001b[0;31m                            cost_gradients, args=(sys_para,result))\n\u001b[0m\u001b[1;32m    166\u001b[0m     \u001b[0;32mreturn\u001b[0m \u001b[0mresult\u001b[0m\u001b[0;34m\u001b[0m\u001b[0;34m\u001b[0m\u001b[0m\n\u001b[1;32m    167\u001b[0m \u001b[0;34m\u001b[0m\u001b[0m\n",
      "\u001b[0;32m~/PycharmProjects/qocag/qocag/optimizers/adam.py\u001b[0m in \u001b[0;36mrun\u001b[0;34m(self, function, iteration_count, initial_params, jacobian, args)\u001b[0m\n\u001b[1;32m    100\u001b[0m         \u001b[0mparams\u001b[0m \u001b[0;34m=\u001b[0m \u001b[0minitial_params\u001b[0m\u001b[0;34m\u001b[0m\u001b[0;34m\u001b[0m\u001b[0m\n\u001b[1;32m    101\u001b[0m         \u001b[0;32mfor\u001b[0m \u001b[0mi\u001b[0m \u001b[0;32min\u001b[0m \u001b[0mrange\u001b[0m\u001b[0;34m(\u001b[0m\u001b[0miteration_count\u001b[0m\u001b[0;34m)\u001b[0m\u001b[0;34m:\u001b[0m\u001b[0;34m\u001b[0m\u001b[0;34m\u001b[0m\u001b[0m\n\u001b[0;32m--> 102\u001b[0;31m             \u001b[0mgrads\u001b[0m\u001b[0;34m,\u001b[0m \u001b[0mterminate\u001b[0m \u001b[0;34m=\u001b[0m \u001b[0mjacobian\u001b[0m\u001b[0;34m(\u001b[0m\u001b[0mparams\u001b[0m\u001b[0;34m,\u001b[0m \u001b[0;34m*\u001b[0m\u001b[0margs\u001b[0m\u001b[0;34m)\u001b[0m\u001b[0;34m\u001b[0m\u001b[0;34m\u001b[0m\u001b[0m\n\u001b[0m\u001b[1;32m    103\u001b[0m             \u001b[0;32mif\u001b[0m \u001b[0mterminate\u001b[0m\u001b[0;34m:\u001b[0m\u001b[0;34m\u001b[0m\u001b[0;34m\u001b[0m\u001b[0m\n\u001b[1;32m    104\u001b[0m                 \u001b[0;32mbreak\u001b[0m\u001b[0;34m\u001b[0m\u001b[0;34m\u001b[0m\u001b[0m\n",
      "\u001b[0;32m~/PycharmProjects/qocag/qocag/models/close_system/optimization.py\u001b[0m in \u001b[0;36mcost_gradients\u001b[0;34m(controls, sys_para, result)\u001b[0m\n\u001b[1;32m    210\u001b[0m     \u001b[0;31m# impose boundary conditions for control\u001b[0m\u001b[0;34m\u001b[0m\u001b[0;34m\u001b[0m\u001b[0;34m\u001b[0m\u001b[0m\n\u001b[1;32m    211\u001b[0m     \u001b[0;32mif\u001b[0m \u001b[0msys_para\u001b[0m\u001b[0;34m.\u001b[0m\u001b[0mmode\u001b[0m\u001b[0;34m==\u001b[0m\u001b[0;34m\"AD\"\u001b[0m\u001b[0;34m:\u001b[0m\u001b[0;34m\u001b[0m\u001b[0;34m\u001b[0m\u001b[0m\n\u001b[0;32m--> 212\u001b[0;31m         \u001b[0mcost_value\u001b[0m\u001b[0;34m,\u001b[0m \u001b[0mgrads\u001b[0m \u001b[0;34m=\u001b[0m \u001b[0mvalue_and_grad\u001b[0m\u001b[0;34m(\u001b[0m\u001b[0mclose_evolution\u001b[0m\u001b[0;34m)\u001b[0m\u001b[0;34m(\u001b[0m\u001b[0mcontrols\u001b[0m\u001b[0;34m,\u001b[0m \u001b[0msys_para\u001b[0m\u001b[0;34m,\u001b[0m\u001b[0mresult\u001b[0m\u001b[0;34m)\u001b[0m\u001b[0;34m\u001b[0m\u001b[0;34m\u001b[0m\u001b[0m\n\u001b[0m\u001b[1;32m    213\u001b[0m     \u001b[0;32melse\u001b[0m\u001b[0;34m:\u001b[0m\u001b[0;34m\u001b[0m\u001b[0;34m\u001b[0m\u001b[0m\n\u001b[1;32m    214\u001b[0m         \u001b[0msys_para\u001b[0m\u001b[0;34m.\u001b[0m\u001b[0monly_cost\u001b[0m\u001b[0;34m=\u001b[0m\u001b[0;32mFalse\u001b[0m\u001b[0;34m\u001b[0m\u001b[0;34m\u001b[0m\u001b[0m\n",
      "\u001b[0;32m~/miniconda3/envs/python36/lib/python3.6/site-packages/autograd/wrap_util.py\u001b[0m in \u001b[0;36mnary_f\u001b[0;34m(*args, **kwargs)\u001b[0m\n\u001b[1;32m     18\u001b[0m             \u001b[0;32melse\u001b[0m\u001b[0;34m:\u001b[0m\u001b[0;34m\u001b[0m\u001b[0;34m\u001b[0m\u001b[0m\n\u001b[1;32m     19\u001b[0m                 \u001b[0mx\u001b[0m \u001b[0;34m=\u001b[0m \u001b[0mtuple\u001b[0m\u001b[0;34m(\u001b[0m\u001b[0margs\u001b[0m\u001b[0;34m[\u001b[0m\u001b[0mi\u001b[0m\u001b[0;34m]\u001b[0m \u001b[0;32mfor\u001b[0m \u001b[0mi\u001b[0m \u001b[0;32min\u001b[0m \u001b[0margnum\u001b[0m\u001b[0;34m)\u001b[0m\u001b[0;34m\u001b[0m\u001b[0;34m\u001b[0m\u001b[0m\n\u001b[0;32m---> 20\u001b[0;31m             \u001b[0;32mreturn\u001b[0m \u001b[0munary_operator\u001b[0m\u001b[0;34m(\u001b[0m\u001b[0munary_f\u001b[0m\u001b[0;34m,\u001b[0m \u001b[0mx\u001b[0m\u001b[0;34m,\u001b[0m \u001b[0;34m*\u001b[0m\u001b[0mnary_op_args\u001b[0m\u001b[0;34m,\u001b[0m \u001b[0;34m**\u001b[0m\u001b[0mnary_op_kwargs\u001b[0m\u001b[0;34m)\u001b[0m\u001b[0;34m\u001b[0m\u001b[0;34m\u001b[0m\u001b[0m\n\u001b[0m\u001b[1;32m     21\u001b[0m         \u001b[0;32mreturn\u001b[0m \u001b[0mnary_f\u001b[0m\u001b[0;34m\u001b[0m\u001b[0;34m\u001b[0m\u001b[0m\n\u001b[1;32m     22\u001b[0m     \u001b[0;32mreturn\u001b[0m \u001b[0mnary_operator\u001b[0m\u001b[0;34m\u001b[0m\u001b[0;34m\u001b[0m\u001b[0m\n",
      "\u001b[0;32m~/miniconda3/envs/python36/lib/python3.6/site-packages/autograd/differential_operators.py\u001b[0m in \u001b[0;36mvalue_and_grad\u001b[0;34m(fun, x)\u001b[0m\n\u001b[1;32m    138\u001b[0m                         \u001b[0;34m\"functions. Try jacobian, elementwise_grad or \"\u001b[0m\u001b[0;34m\u001b[0m\u001b[0;34m\u001b[0m\u001b[0m\n\u001b[1;32m    139\u001b[0m                         \"holomorphic_grad.\")\n\u001b[0;32m--> 140\u001b[0;31m     \u001b[0;32mreturn\u001b[0m \u001b[0mans\u001b[0m\u001b[0;34m,\u001b[0m \u001b[0mvjp\u001b[0m\u001b[0;34m(\u001b[0m\u001b[0mvspace\u001b[0m\u001b[0;34m(\u001b[0m\u001b[0mans\u001b[0m\u001b[0;34m)\u001b[0m\u001b[0;34m.\u001b[0m\u001b[0mones\u001b[0m\u001b[0;34m(\u001b[0m\u001b[0;34m)\u001b[0m\u001b[0;34m)\u001b[0m\u001b[0;34m\u001b[0m\u001b[0;34m\u001b[0m\u001b[0m\n\u001b[0m\u001b[1;32m    141\u001b[0m \u001b[0;34m\u001b[0m\u001b[0m\n\u001b[1;32m    142\u001b[0m \u001b[0;34m@\u001b[0m\u001b[0munary_to_nary\u001b[0m\u001b[0;34m\u001b[0m\u001b[0;34m\u001b[0m\u001b[0m\n",
      "\u001b[0;32m~/miniconda3/envs/python36/lib/python3.6/site-packages/autograd/core.py\u001b[0m in \u001b[0;36mvjp\u001b[0;34m(g)\u001b[0m\n\u001b[1;32m     12\u001b[0m         \u001b[0;32mdef\u001b[0m \u001b[0mvjp\u001b[0m\u001b[0;34m(\u001b[0m\u001b[0mg\u001b[0m\u001b[0;34m)\u001b[0m\u001b[0;34m:\u001b[0m \u001b[0;32mreturn\u001b[0m \u001b[0mvspace\u001b[0m\u001b[0;34m(\u001b[0m\u001b[0mx\u001b[0m\u001b[0;34m)\u001b[0m\u001b[0;34m.\u001b[0m\u001b[0mzeros\u001b[0m\u001b[0;34m(\u001b[0m\u001b[0;34m)\u001b[0m\u001b[0;34m\u001b[0m\u001b[0;34m\u001b[0m\u001b[0m\n\u001b[1;32m     13\u001b[0m     \u001b[0;32melse\u001b[0m\u001b[0;34m:\u001b[0m\u001b[0;34m\u001b[0m\u001b[0;34m\u001b[0m\u001b[0m\n\u001b[0;32m---> 14\u001b[0;31m         \u001b[0;32mdef\u001b[0m \u001b[0mvjp\u001b[0m\u001b[0;34m(\u001b[0m\u001b[0mg\u001b[0m\u001b[0;34m)\u001b[0m\u001b[0;34m:\u001b[0m \u001b[0;32mreturn\u001b[0m \u001b[0mbackward_pass\u001b[0m\u001b[0;34m(\u001b[0m\u001b[0mg\u001b[0m\u001b[0;34m,\u001b[0m \u001b[0mend_node\u001b[0m\u001b[0;34m)\u001b[0m\u001b[0;34m\u001b[0m\u001b[0;34m\u001b[0m\u001b[0m\n\u001b[0m\u001b[1;32m     15\u001b[0m     \u001b[0;32mreturn\u001b[0m \u001b[0mvjp\u001b[0m\u001b[0;34m,\u001b[0m \u001b[0mend_value\u001b[0m\u001b[0;34m\u001b[0m\u001b[0;34m\u001b[0m\u001b[0m\n\u001b[1;32m     16\u001b[0m \u001b[0;34m\u001b[0m\u001b[0m\n",
      "\u001b[0;32m~/miniconda3/envs/python36/lib/python3.6/site-packages/autograd/core.py\u001b[0m in \u001b[0;36mbackward_pass\u001b[0;34m(g, end_node)\u001b[0m\n\u001b[1;32m     19\u001b[0m     \u001b[0;32mfor\u001b[0m \u001b[0mnode\u001b[0m \u001b[0;32min\u001b[0m \u001b[0mtoposort\u001b[0m\u001b[0;34m(\u001b[0m\u001b[0mend_node\u001b[0m\u001b[0;34m)\u001b[0m\u001b[0;34m:\u001b[0m\u001b[0;34m\u001b[0m\u001b[0;34m\u001b[0m\u001b[0m\n\u001b[1;32m     20\u001b[0m         \u001b[0moutgrad\u001b[0m \u001b[0;34m=\u001b[0m \u001b[0moutgrads\u001b[0m\u001b[0;34m.\u001b[0m\u001b[0mpop\u001b[0m\u001b[0;34m(\u001b[0m\u001b[0mnode\u001b[0m\u001b[0;34m)\u001b[0m\u001b[0;34m\u001b[0m\u001b[0;34m\u001b[0m\u001b[0m\n\u001b[0;32m---> 21\u001b[0;31m         \u001b[0mingrads\u001b[0m \u001b[0;34m=\u001b[0m \u001b[0mnode\u001b[0m\u001b[0;34m.\u001b[0m\u001b[0mvjp\u001b[0m\u001b[0;34m(\u001b[0m\u001b[0moutgrad\u001b[0m\u001b[0;34m[\u001b[0m\u001b[0;36m0\u001b[0m\u001b[0;34m]\u001b[0m\u001b[0;34m)\u001b[0m\u001b[0;34m\u001b[0m\u001b[0;34m\u001b[0m\u001b[0m\n\u001b[0m\u001b[1;32m     22\u001b[0m         \u001b[0;32mfor\u001b[0m \u001b[0mparent\u001b[0m\u001b[0;34m,\u001b[0m \u001b[0mingrad\u001b[0m \u001b[0;32min\u001b[0m \u001b[0mzip\u001b[0m\u001b[0;34m(\u001b[0m\u001b[0mnode\u001b[0m\u001b[0;34m.\u001b[0m\u001b[0mparents\u001b[0m\u001b[0;34m,\u001b[0m \u001b[0mingrads\u001b[0m\u001b[0;34m)\u001b[0m\u001b[0;34m:\u001b[0m\u001b[0;34m\u001b[0m\u001b[0;34m\u001b[0m\u001b[0m\n\u001b[1;32m     23\u001b[0m             \u001b[0moutgrads\u001b[0m\u001b[0;34m[\u001b[0m\u001b[0mparent\u001b[0m\u001b[0;34m]\u001b[0m \u001b[0;34m=\u001b[0m \u001b[0madd_outgrads\u001b[0m\u001b[0;34m(\u001b[0m\u001b[0moutgrads\u001b[0m\u001b[0;34m.\u001b[0m\u001b[0mget\u001b[0m\u001b[0;34m(\u001b[0m\u001b[0mparent\u001b[0m\u001b[0;34m)\u001b[0m\u001b[0;34m,\u001b[0m \u001b[0mingrad\u001b[0m\u001b[0;34m)\u001b[0m\u001b[0;34m\u001b[0m\u001b[0;34m\u001b[0m\u001b[0m\n",
      "\u001b[0;32m~/miniconda3/envs/python36/lib/python3.6/site-packages/autograd/core.py\u001b[0m in \u001b[0;36m<lambda>\u001b[0;34m(g)\u001b[0m\n\u001b[1;32m     76\u001b[0m             \u001b[0mvjp_0\u001b[0m \u001b[0;34m=\u001b[0m \u001b[0mvjp_0_fun\u001b[0m\u001b[0;34m(\u001b[0m\u001b[0mans\u001b[0m\u001b[0;34m,\u001b[0m \u001b[0;34m*\u001b[0m\u001b[0margs\u001b[0m\u001b[0;34m,\u001b[0m \u001b[0;34m**\u001b[0m\u001b[0mkwargs\u001b[0m\u001b[0;34m)\u001b[0m\u001b[0;34m\u001b[0m\u001b[0;34m\u001b[0m\u001b[0m\n\u001b[1;32m     77\u001b[0m             \u001b[0mvjp_1\u001b[0m \u001b[0;34m=\u001b[0m \u001b[0mvjp_1_fun\u001b[0m\u001b[0;34m(\u001b[0m\u001b[0mans\u001b[0m\u001b[0;34m,\u001b[0m \u001b[0;34m*\u001b[0m\u001b[0margs\u001b[0m\u001b[0;34m,\u001b[0m \u001b[0;34m**\u001b[0m\u001b[0mkwargs\u001b[0m\u001b[0;34m)\u001b[0m\u001b[0;34m\u001b[0m\u001b[0;34m\u001b[0m\u001b[0m\n\u001b[0;32m---> 78\u001b[0;31m             \u001b[0;32mreturn\u001b[0m \u001b[0;32mlambda\u001b[0m \u001b[0mg\u001b[0m\u001b[0;34m:\u001b[0m \u001b[0;34m(\u001b[0m\u001b[0mvjp_0\u001b[0m\u001b[0;34m(\u001b[0m\u001b[0mg\u001b[0m\u001b[0;34m)\u001b[0m\u001b[0;34m,\u001b[0m \u001b[0mvjp_1\u001b[0m\u001b[0;34m(\u001b[0m\u001b[0mg\u001b[0m\u001b[0;34m)\u001b[0m\u001b[0;34m)\u001b[0m\u001b[0;34m\u001b[0m\u001b[0;34m\u001b[0m\u001b[0m\n\u001b[0m\u001b[1;32m     79\u001b[0m         \u001b[0;32melse\u001b[0m\u001b[0;34m:\u001b[0m\u001b[0;34m\u001b[0m\u001b[0;34m\u001b[0m\u001b[0m\n\u001b[1;32m     80\u001b[0m             \u001b[0mvjps\u001b[0m \u001b[0;34m=\u001b[0m \u001b[0;34m[\u001b[0m\u001b[0mvjps_dict\u001b[0m\u001b[0;34m[\u001b[0m\u001b[0margnum\u001b[0m\u001b[0;34m]\u001b[0m\u001b[0;34m(\u001b[0m\u001b[0mans\u001b[0m\u001b[0;34m,\u001b[0m \u001b[0;34m*\u001b[0m\u001b[0margs\u001b[0m\u001b[0;34m,\u001b[0m \u001b[0;34m**\u001b[0m\u001b[0mkwargs\u001b[0m\u001b[0;34m)\u001b[0m \u001b[0;32mfor\u001b[0m \u001b[0margnum\u001b[0m \u001b[0;32min\u001b[0m \u001b[0margnums\u001b[0m\u001b[0;34m]\u001b[0m\u001b[0;34m\u001b[0m\u001b[0;34m\u001b[0m\u001b[0m\n",
      "\u001b[0;32m~/miniconda3/envs/python36/lib/python3.6/site-packages/autograd/numpy/linalg.py\u001b[0m in \u001b[0;36m<lambda>\u001b[0;34m(g)\u001b[0m\n\u001b[1;32m     43\u001b[0m         \u001b[0;32mreturn\u001b[0m \u001b[0;32mlambda\u001b[0m \u001b[0mg\u001b[0m\u001b[0;34m:\u001b[0m \u001b[0;34m-\u001b[0m\u001b[0m_dot\u001b[0m\u001b[0;34m(\u001b[0m\u001b[0mupdim\u001b[0m\u001b[0;34m(\u001b[0m\u001b[0msolve\u001b[0m\u001b[0;34m(\u001b[0m\u001b[0mT\u001b[0m\u001b[0;34m(\u001b[0m\u001b[0ma\u001b[0m\u001b[0;34m)\u001b[0m\u001b[0;34m,\u001b[0m \u001b[0mg\u001b[0m\u001b[0;34m)\u001b[0m\u001b[0;34m)\u001b[0m\u001b[0;34m,\u001b[0m \u001b[0mT\u001b[0m\u001b[0;34m(\u001b[0m\u001b[0mupdim\u001b[0m\u001b[0;34m(\u001b[0m\u001b[0mans\u001b[0m\u001b[0;34m)\u001b[0m\u001b[0;34m)\u001b[0m\u001b[0;34m)\u001b[0m\u001b[0;34m\u001b[0m\u001b[0;34m\u001b[0m\u001b[0m\n\u001b[1;32m     44\u001b[0m     \u001b[0;32melse\u001b[0m\u001b[0;34m:\u001b[0m\u001b[0;34m\u001b[0m\u001b[0;34m\u001b[0m\u001b[0m\n\u001b[0;32m---> 45\u001b[0;31m         \u001b[0;32mreturn\u001b[0m \u001b[0;32mlambda\u001b[0m \u001b[0mg\u001b[0m\u001b[0;34m:\u001b[0m \u001b[0msolve\u001b[0m\u001b[0;34m(\u001b[0m\u001b[0mT\u001b[0m\u001b[0;34m(\u001b[0m\u001b[0ma\u001b[0m\u001b[0;34m)\u001b[0m\u001b[0;34m,\u001b[0m \u001b[0mg\u001b[0m\u001b[0;34m)\u001b[0m\u001b[0;34m\u001b[0m\u001b[0;34m\u001b[0m\u001b[0m\n\u001b[0m\u001b[1;32m     46\u001b[0m \u001b[0mdefvjp\u001b[0m\u001b[0;34m(\u001b[0m\u001b[0msolve\u001b[0m\u001b[0;34m,\u001b[0m \u001b[0mpartial\u001b[0m\u001b[0;34m(\u001b[0m\u001b[0mgrad_solve\u001b[0m\u001b[0;34m,\u001b[0m \u001b[0;36m0\u001b[0m\u001b[0;34m)\u001b[0m\u001b[0;34m,\u001b[0m \u001b[0mpartial\u001b[0m\u001b[0;34m(\u001b[0m\u001b[0mgrad_solve\u001b[0m\u001b[0;34m,\u001b[0m \u001b[0;36m1\u001b[0m\u001b[0;34m)\u001b[0m\u001b[0;34m)\u001b[0m\u001b[0;34m\u001b[0m\u001b[0;34m\u001b[0m\u001b[0m\n\u001b[1;32m     47\u001b[0m \u001b[0;34m\u001b[0m\u001b[0m\n",
      "\u001b[0;32m~/miniconda3/envs/python36/lib/python3.6/site-packages/autograd/tracer.py\u001b[0m in \u001b[0;36mf_wrapped\u001b[0;34m(*args, **kwargs)\u001b[0m\n\u001b[1;32m     46\u001b[0m             \u001b[0;32mreturn\u001b[0m \u001b[0mnew_box\u001b[0m\u001b[0;34m(\u001b[0m\u001b[0mans\u001b[0m\u001b[0;34m,\u001b[0m \u001b[0mtrace\u001b[0m\u001b[0;34m,\u001b[0m \u001b[0mnode\u001b[0m\u001b[0;34m)\u001b[0m\u001b[0;34m\u001b[0m\u001b[0;34m\u001b[0m\u001b[0m\n\u001b[1;32m     47\u001b[0m         \u001b[0;32melse\u001b[0m\u001b[0;34m:\u001b[0m\u001b[0;34m\u001b[0m\u001b[0;34m\u001b[0m\u001b[0m\n\u001b[0;32m---> 48\u001b[0;31m             \u001b[0;32mreturn\u001b[0m \u001b[0mf_raw\u001b[0m\u001b[0;34m(\u001b[0m\u001b[0;34m*\u001b[0m\u001b[0margs\u001b[0m\u001b[0;34m,\u001b[0m \u001b[0;34m**\u001b[0m\u001b[0mkwargs\u001b[0m\u001b[0;34m)\u001b[0m\u001b[0;34m\u001b[0m\u001b[0;34m\u001b[0m\u001b[0m\n\u001b[0m\u001b[1;32m     49\u001b[0m     \u001b[0mf_wrapped\u001b[0m\u001b[0;34m.\u001b[0m\u001b[0mfun\u001b[0m \u001b[0;34m=\u001b[0m \u001b[0mf_raw\u001b[0m\u001b[0;34m\u001b[0m\u001b[0;34m\u001b[0m\u001b[0m\n\u001b[1;32m     50\u001b[0m     \u001b[0mf_wrapped\u001b[0m\u001b[0;34m.\u001b[0m\u001b[0m_is_autograd_primitive\u001b[0m \u001b[0;34m=\u001b[0m \u001b[0;32mTrue\u001b[0m\u001b[0;34m\u001b[0m\u001b[0;34m\u001b[0m\u001b[0m\n",
      "\u001b[0;32m<__array_function__ internals>\u001b[0m in \u001b[0;36msolve\u001b[0;34m(*args, **kwargs)\u001b[0m\n",
      "\u001b[0;32m~/miniconda3/envs/python36/lib/python3.6/site-packages/numpy/linalg/linalg.py\u001b[0m in \u001b[0;36msolve\u001b[0;34m(a, b)\u001b[0m\n\u001b[1;32m    381\u001b[0m     \u001b[0m_assert_stacked_square\u001b[0m\u001b[0;34m(\u001b[0m\u001b[0ma\u001b[0m\u001b[0;34m)\u001b[0m\u001b[0;34m\u001b[0m\u001b[0;34m\u001b[0m\u001b[0m\n\u001b[1;32m    382\u001b[0m     \u001b[0mb\u001b[0m\u001b[0;34m,\u001b[0m \u001b[0mwrap\u001b[0m \u001b[0;34m=\u001b[0m \u001b[0m_makearray\u001b[0m\u001b[0;34m(\u001b[0m\u001b[0mb\u001b[0m\u001b[0;34m)\u001b[0m\u001b[0;34m\u001b[0m\u001b[0;34m\u001b[0m\u001b[0m\n\u001b[0;32m--> 383\u001b[0;31m     \u001b[0mt\u001b[0m\u001b[0;34m,\u001b[0m \u001b[0mresult_t\u001b[0m \u001b[0;34m=\u001b[0m \u001b[0m_commonType\u001b[0m\u001b[0;34m(\u001b[0m\u001b[0ma\u001b[0m\u001b[0;34m,\u001b[0m \u001b[0mb\u001b[0m\u001b[0;34m)\u001b[0m\u001b[0;34m\u001b[0m\u001b[0;34m\u001b[0m\u001b[0m\n\u001b[0m\u001b[1;32m    384\u001b[0m \u001b[0;34m\u001b[0m\u001b[0m\n\u001b[1;32m    385\u001b[0m     \u001b[0;31m# We use the b = (..., M,) logic, only if the number of extra dimensions\u001b[0m\u001b[0;34m\u001b[0m\u001b[0;34m\u001b[0m\u001b[0;34m\u001b[0m\u001b[0m\n",
      "\u001b[0;32m~/miniconda3/envs/python36/lib/python3.6/site-packages/numpy/linalg/linalg.py\u001b[0m in \u001b[0;36m_commonType\u001b[0;34m(*arrays)\u001b[0m\n\u001b[1;32m    139\u001b[0m     \u001b[0;32mfor\u001b[0m \u001b[0ma\u001b[0m \u001b[0;32min\u001b[0m \u001b[0marrays\u001b[0m\u001b[0;34m:\u001b[0m\u001b[0;34m\u001b[0m\u001b[0;34m\u001b[0m\u001b[0m\n\u001b[1;32m    140\u001b[0m         \u001b[0;32mif\u001b[0m \u001b[0missubclass\u001b[0m\u001b[0;34m(\u001b[0m\u001b[0ma\u001b[0m\u001b[0;34m.\u001b[0m\u001b[0mdtype\u001b[0m\u001b[0;34m.\u001b[0m\u001b[0mtype\u001b[0m\u001b[0;34m,\u001b[0m \u001b[0minexact\u001b[0m\u001b[0;34m)\u001b[0m\u001b[0;34m:\u001b[0m\u001b[0;34m\u001b[0m\u001b[0;34m\u001b[0m\u001b[0m\n\u001b[0;32m--> 141\u001b[0;31m             \u001b[0;32mif\u001b[0m \u001b[0misComplexType\u001b[0m\u001b[0;34m(\u001b[0m\u001b[0ma\u001b[0m\u001b[0;34m.\u001b[0m\u001b[0mdtype\u001b[0m\u001b[0;34m.\u001b[0m\u001b[0mtype\u001b[0m\u001b[0;34m)\u001b[0m\u001b[0;34m:\u001b[0m\u001b[0;34m\u001b[0m\u001b[0;34m\u001b[0m\u001b[0m\n\u001b[0m\u001b[1;32m    142\u001b[0m                 \u001b[0mis_complex\u001b[0m \u001b[0;34m=\u001b[0m \u001b[0;32mTrue\u001b[0m\u001b[0;34m\u001b[0m\u001b[0;34m\u001b[0m\u001b[0m\n\u001b[1;32m    143\u001b[0m             \u001b[0mrt\u001b[0m \u001b[0;34m=\u001b[0m \u001b[0m_realType\u001b[0m\u001b[0;34m(\u001b[0m\u001b[0ma\u001b[0m\u001b[0;34m.\u001b[0m\u001b[0mdtype\u001b[0m\u001b[0;34m.\u001b[0m\u001b[0mtype\u001b[0m\u001b[0;34m,\u001b[0m \u001b[0mdefault\u001b[0m\u001b[0;34m=\u001b[0m\u001b[0;32mNone\u001b[0m\u001b[0;34m)\u001b[0m\u001b[0;34m\u001b[0m\u001b[0;34m\u001b[0m\u001b[0m\n",
      "\u001b[0;31mKeyboardInterrupt\u001b[0m: "
     ]
    }
   ],
   "source": [
    "initial_control=0.0001*np.ones((3,total_time_steps))\n",
    "save_file_path=generate_save_file_path(\"fock1\",\"./out\")\n",
    "result=grape_schroedinger_discrete(total_time_steps,\n",
    "                                costs, total_time, H0, H_controls,\n",
    "                                initial_states,max_iteration_num=1000,\n",
    "                                optimizer=Adam(), mode='AD', tol=1e-15,initial_controls=initial_control,save_file_path=save_file_path,\n",
    "                                   impose_control_conditions=impose_bc)"
   ]
  },
  {
   "cell_type": "code",
   "execution_count": 143,
   "id": "118523b9",
   "metadata": {},
   "outputs": [],
   "source": [
    "import qutip as qt"
   ]
  },
  {
   "cell_type": "code",
   "execution_count": 395,
   "id": "1a2a413f",
   "metadata": {},
   "outputs": [],
   "source": [
    "qt_H0=qt.Qobj(H0)\n",
    "qt_Hc1=qt.Qobj(H_controls[0])\n",
    "qt_Hc2=qt.Qobj(H_controls[1])\n",
    "qt_Hc3=qt.Qobj(H_controls[2])\n",
    "qt_is=qt.Qobj(initial_states)\n",
    "qt_N=100*total_time_steps\n",
    "qt_t=total_time*15\n",
    "qt_tlist=np.linspace(0,qt_t,qt_N)\n",
    "omega=chi/25\n",
    "epsilon=omega/20\n",
    "qt_c1=omega*np.cos(2*chi*qt_tlist)\n",
    "\n",
    "qt_c3=epsilon*np.ones(qt_N)\n",
    "qt_H=[qt_H0,[qt_Hc1,qt_c1],[qt_Hc2,qt_c2],[qt_Hc3,qt_c3]]\n",
    "p2=np.zeros(len(initial_states))\n",
    "p2[4]=1\n",
    "p2=qt.Qobj(p2).proj()\n",
    "p0=qt_is.proj()\n",
    "p1=qt.Qobj(target_states).proj()\n",
    "p3=np.zeros(len(initial_states))\n",
    "p3[6]=1\n",
    "p3=qt.Qobj(p3).proj()\n",
    "p4=np.zeros(len(initial_states))\n",
    "p4[8]=1\n",
    "p4=qt.Qobj(p4).proj()\n",
    "e_ops=[p0,p1,p2,p3,p4]"
   ]
  },
  {
   "cell_type": "code",
   "execution_count": 396,
   "id": "456c9eeb",
   "metadata": {},
   "outputs": [],
   "source": [
    "result=qt.sesolve(H=qt_H, psi0=qt_is, tlist=qt_tlist,e_ops=e_ops)"
   ]
  },
  {
   "cell_type": "code",
   "execution_count": 397,
   "id": "caa3b627",
   "metadata": {},
   "outputs": [
    {
     "data": {
      "text/plain": [
       "<matplotlib.legend.Legend at 0x7fac717a0550>"
      ]
     },
     "execution_count": 397,
     "metadata": {},
     "output_type": "execute_result"
    },
    {
     "data": {
      "image/png": "[encoded data removed]",
      "text/plain": [
       "<Figure size 900x600 with 1 Axes>"
      ]
     },
     "metadata": {
      "needs_background": "light"
     },
     "output_type": "display_data"
    }
   ],
   "source": [
    "fig,ax=plt.subplots()\n",
    "for i in range(5):\n",
    "    ax.plot(result.expect[i],label=str(i))\n",
    "ax.legend()"
   ]
  },
  {
   "cell_type": "code",
   "execution_count": 216,
   "id": "5ed1b167",
   "metadata": {},
   "outputs": [
    {
     "data": {
      "text/plain": [
       "30000"
      ]
     },
     "execution_count": 216,
     "metadata": {},
     "output_type": "execute_result"
    }
   ],
   "source": [
    "qt_t"
   ]
  },
  {
   "cell_type": "code",
   "execution_count": 224,
   "id": "700b760a",
   "metadata": {},
   "outputs": [
    {
     "data": {
      "text/plain": [
       "0.01675516081914557"
      ]
     },
     "execution_count": 224,
     "metadata": {},
     "output_type": "execute_result"
    }
   ],
   "source": [
    "chi-omega"
   ]
  },
  {
   "cell_type": "code",
   "execution_count": null,
   "id": "d8b17e8d",
   "metadata": {},
   "outputs": [],
   "source": []
  }
 ],
 "metadata": {
  "kernelspec": {
   "display_name": "Python 3",
   "language": "python",
   "name": "python3"
  },
  "language_info": {
   "codemirror_mode": {
    "name": "ipython",
    "version": 3
   },
   "file_extension": ".py",
   "mimetype": "text/x-python",
   "name": "python",
   "nbconvert_exporter": "python",
   "pygments_lexer": "ipython3",
   "version": "3.6.12"
  }
 },
 "nbformat": 4,
 "nbformat_minor": 5
}
